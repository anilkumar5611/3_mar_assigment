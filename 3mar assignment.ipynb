{
 "cells": [
  {
   "cell_type": "code",
   "execution_count": null,
   "id": "a833e351",
   "metadata": {},
   "outputs": [],
   "source": [
    "''' q1 Which keyword is used to create a function? Create a function to return a list of odd numbers \n",
    "in the range of 1 to 25.'''"
   ]
  },
  {
   "cell_type": "code",
   "execution_count": 3,
   "id": "fbf4f032",
   "metadata": {},
   "outputs": [],
   "source": [
    "#def key word is yoused to create a function.\n",
    "l=list(range (1,25))\n",
    "    \n"
   ]
  },
  {
   "cell_type": "code",
   "execution_count": 4,
   "id": "caf4ae0a",
   "metadata": {},
   "outputs": [
    {
     "data": {
      "text/plain": [
       "[1,\n",
       " 2,\n",
       " 3,\n",
       " 4,\n",
       " 5,\n",
       " 6,\n",
       " 7,\n",
       " 8,\n",
       " 9,\n",
       " 10,\n",
       " 11,\n",
       " 12,\n",
       " 13,\n",
       " 14,\n",
       " 15,\n",
       " 16,\n",
       " 17,\n",
       " 18,\n",
       " 19,\n",
       " 20,\n",
       " 21,\n",
       " 22,\n",
       " 23,\n",
       " 24]"
      ]
     },
     "execution_count": 4,
     "metadata": {},
     "output_type": "execute_result"
    }
   ],
   "source": [
    "l"
   ]
  },
  {
   "cell_type": "code",
   "execution_count": 16,
   "id": "19b6e931",
   "metadata": {},
   "outputs": [
    {
     "name": "stdout",
     "output_type": "stream",
     "text": [
      "1 3 5 7 9 11 13 15 17 19 "
     ]
    }
   ],
   "source": [
    "start, end = 1, 20\n",
    "# iteration\n",
    "for num in range(start, end + 1):\n",
    "   # check\n",
    "   if num % 2 != 0:\n",
    "      print(num, end = \" \")"
   ]
  },
  {
   "cell_type": "code",
   "execution_count": null,
   "id": "a6bcac0c",
   "metadata": {},
   "outputs": [],
   "source": [
    "\"\"\"Q2. Why *args and **kwargs is used in some functions? Create a function each for *args and **kwargs\n",
    "to demonstrate their use.\"\"\""
   ]
  },
  {
   "cell_type": "code",
   "execution_count": 21,
   "id": "68c3a21d",
   "metadata": {},
   "outputs": [],
   "source": [
    "def add(*num):\n",
    "    sum = 0;\n",
    "    for n in num:\n",
    "        sum = sum + n;\n",
    "    print(\"Sum:\", sum)"
   ]
  },
  {
   "cell_type": "code",
   "execution_count": 22,
   "id": "040214a7",
   "metadata": {},
   "outputs": [
    {
     "name": "stdout",
     "output_type": "stream",
     "text": [
      "Sum: 15\n"
     ]
    }
   ],
   "source": [
    "add(2,5,8)"
   ]
  },
  {
   "cell_type": "code",
   "execution_count": 27,
   "id": "46f7e403",
   "metadata": {},
   "outputs": [],
   "source": [
    "def Person(**kwargs):\n",
    "    for key, value in kwargs.items():\n",
    "        print(\"{}\".format(key, value)) "
   ]
  },
  {
   "cell_type": "code",
   "execution_count": 28,
   "id": "d6a40d20",
   "metadata": {},
   "outputs": [
    {
     "name": "stdout",
     "output_type": "stream",
     "text": [
      "name\n",
      "father\n",
      "mother\n"
     ]
    }
   ],
   "source": [
    "Person(name='1',father='2',mother='3')"
   ]
  },
  {
   "cell_type": "code",
   "execution_count": null,
   "id": "ed084caf",
   "metadata": {},
   "outputs": [],
   "source": [
    "'''Q3.  What is an iterator in python? Name the method used to initialise the iterator object and \n",
    "the method used for iteration. Use these methods to print the first five elements of the given list\n",
    "[2, 4, 6, 8, 10, 12, 14, 16, 18, 20].'''"
   ]
  },
  {
   "cell_type": "code",
   "execution_count": null,
   "id": "0cd03d85",
   "metadata": {},
   "outputs": [],
   "source": [
    "\"\"\"Technically, in Python, an iterator is an object which implements the iterator protocol, \n",
    "which consist of the methods __iter__() and __next__() .\"\"\""
   ]
  },
  {
   "cell_type": "code",
   "execution_count": 30,
   "id": "7fc8915c",
   "metadata": {},
   "outputs": [
    {
     "ename": "NameError",
     "evalue": "name 'list1' is not defined",
     "output_type": "error",
     "traceback": [
      "\u001b[1;31m---------------------------------------------------------------------------\u001b[0m",
      "\u001b[1;31mNameError\u001b[0m                                 Traceback (most recent call last)",
      "Cell \u001b[1;32mIn[30], line 1\u001b[0m\n\u001b[1;32m----> 1\u001b[0m \u001b[43mlist1\u001b[49m[\u001b[38;5;241m2\u001b[39m, \u001b[38;5;241m4\u001b[39m, \u001b[38;5;241m6\u001b[39m, \u001b[38;5;241m8\u001b[39m, \u001b[38;5;241m10\u001b[39m, \u001b[38;5;241m12\u001b[39m, \u001b[38;5;241m14\u001b[39m, \u001b[38;5;241m16\u001b[39m, \u001b[38;5;241m18\u001b[39m, \u001b[38;5;241m20\u001b[39m]\n",
      "\u001b[1;31mNameError\u001b[0m: name 'list1' is not defined"
     ]
    }
   ],
   "source": [
    "list1[2, 4, 6, 8, 10, 12, 14, 16, 18, 20]"
   ]
  },
  {
   "cell_type": "code",
   "execution_count": 33,
   "id": "28b60af9",
   "metadata": {},
   "outputs": [
    {
     "name": "stdout",
     "output_type": "stream",
     "text": [
      "2\n",
      "4\n",
      "6\n",
      "8\n",
      "10\n",
      "12\n",
      "14\n",
      "16\n",
      "18\n",
      "20\n"
     ]
    }
   ],
   "source": [
    "# define an iterable such as a list\n",
    "list1=[2, 4, 6, 8, 10, 12, 14, 16, 18, 20]\n",
    "\n",
    "# get an iterator using iter()\n",
    "iter1=iter(list1)\n",
    "# infinite loop\n",
    "while True:\n",
    "    try:\n",
    "        # get the next item\n",
    "        print(next(iter1))\n",
    "        # do something with element\n",
    "    except StopIteration:\n",
    "        # if StopIteration is raised, break from loop\n",
    "        break"
   ]
  },
  {
   "cell_type": "code",
   "execution_count": null,
   "id": "04e7e34b",
   "metadata": {},
   "outputs": [],
   "source": [
    "\"\"\"q4 What is a generator function in python? Why yield keyword is used? Give an example of a \n",
    "generator function.\"\"\""
   ]
  },
  {
   "cell_type": "code",
   "execution_count": null,
   "id": "49bc2ae8",
   "metadata": {},
   "outputs": [],
   "source": [
    "\"\"\"The Yield keyword in Python is similar to a return statement used for returning values or \n",
    "objects in Python. However, there is a slight difference. The yield statement returns a generator\n",
    "object to the one who calls the function which contains yield, instead of simply returning a \n",
    "value\"\"\""
   ]
  },
  {
   "cell_type": "code",
   "execution_count": 34,
   "id": "ec2b9cbf",
   "metadata": {},
   "outputs": [
    {
     "name": "stdout",
     "output_type": "stream",
     "text": [
      "[1, 3, 5, 7, 9, 11, 13, 15, 17, 19]\n"
     ]
    }
   ],
   "source": [
    "def filter_odd(numbers):\n",
    "\n",
    "   for number in range(numbers):\n",
    "\n",
    "       if(number%2!=0):\n",
    "\n",
    "           yield number \n",
    "\n",
    "odd_numbers = filter_odd(20)\n",
    "\n",
    "print(list(odd_numbers))"
   ]
  },
  {
   "cell_type": "code",
   "execution_count": null,
   "id": "d0fb1a0b",
   "metadata": {},
   "outputs": [],
   "source": [
    "\"\"\"Q5. Create a generator function for prime numbers less than 1000. Use the next() method to print\n",
    "the first 20 prime numbers.\"\"\"\n"
   ]
  },
  {
   "cell_type": "code",
   "execution_count": null,
   "id": "1a14616d",
   "metadata": {},
   "outputs": [],
   "source": [
    "\"\"\"Q6. Write a python program to print the first 10 Fibonacci numbers using a while loop\"\"\""
   ]
  },
  {
   "cell_type": "code",
   "execution_count": 36,
   "id": "832989fe",
   "metadata": {},
   "outputs": [
    {
     "name": "stdout",
     "output_type": "stream",
     "text": [
      "Enter the value of 'n': 10\n",
      "Fibonacci Series:  0 1 1 2 3 5 8 13 21 34 "
     ]
    }
   ],
   "source": [
    "#Python program to generate Fibonacci series until 'n' value\n",
    "n = int(input(\"Enter the value of 'n': \"))\n",
    "a = 0\n",
    "b = 1\n",
    "sum = 0\n",
    "count = 1\n",
    "print(\"Fibonacci Series: \", end = \" \")\n",
    "while(count <= n):\n",
    "  print(sum, end = \" \")\n",
    "  count += 1\n",
    "  a = b\n",
    "  b = sum\n",
    "  sum = a + b"
   ]
  },
  {
   "cell_type": "code",
   "execution_count": null,
   "id": "762446e9",
   "metadata": {},
   "outputs": [],
   "source": [
    "\"\"\"Q7. Write a List Comprehension to iterate through the given string: ‘pwskills’.\n",
    "\n",
    "Expected output: ['p', 'w', 's', 'k', 'i', 'l', 'l', 's'] \"\"\""
   ]
  },
  {
   "cell_type": "code",
   "execution_count": 39,
   "id": "d5c06a10",
   "metadata": {},
   "outputs": [
    {
     "name": "stdout",
     "output_type": "stream",
     "text": [
      "['p']\n",
      "['p', 'w']\n",
      "['p', 'w', 's']\n",
      "['p', 'w', 's', 'k']\n",
      "['p', 'w', 's', 'k', 'i']\n",
      "['p', 'w', 's', 'k', 'i', 'l']\n",
      "['p', 'w', 's', 'k', 'i', 'l', 'l']\n",
      "['p', 'w', 's', 'k', 'i', 'l', 'l', 's']\n"
     ]
    }
   ],
   "source": [
    "l=[]\n",
    "for i in 'pwskills':\n",
    "    l.append(i)\n",
    "    print(l)"
   ]
  },
  {
   "cell_type": "code",
   "execution_count": null,
   "id": "89e6b6a4",
   "metadata": {},
   "outputs": [],
   "source": [
    "\"\"\"Q8. Write a python program to check whether a given number is Palindrome or not using a \n",
    "while loop.\"\"\""
   ]
  },
  {
   "cell_type": "code",
   "execution_count": 41,
   "id": "a25b373f",
   "metadata": {},
   "outputs": [
    {
     "name": "stdout",
     "output_type": "stream",
     "text": [
      "Enter a letter:anina\n",
      "The letter is a palindrome\n"
     ]
    }
   ],
   "source": [
    "string=input((\"Enter a letter:\"))  \n",
    "if(string==string[::-1]):  \n",
    "      print(\"The letter is a palindrome\")  \n",
    "else:  \n",
    "      print(\"The letter is not a palindrome\") "
   ]
  },
  {
   "cell_type": "code",
   "execution_count": null,
   "id": "4b359165",
   "metadata": {},
   "outputs": [],
   "source": [
    "\"\"\"Q9. Write a code to print odd numbers from 1 to 100 using list comprehension.\"\"\""
   ]
  },
  {
   "cell_type": "code",
   "execution_count": 54,
   "id": "25df0430",
   "metadata": {},
   "outputs": [
    {
     "name": "stdout",
     "output_type": "stream",
     "text": [
      "1 3 5 7 9 11 13 15 17 19 21 23 25 27 29 31 33 35 37 39 41 43 45 47 49 51 53 55 57 59 61 63 65 67 69 71 73 75 77 79 81 83 85 87 89 91 93 95 97 99 "
     ]
    }
   ],
   "source": [
    "# Python program to print odd Numbers in a List\n",
    "  \n",
    "# list of numbers\n",
    "list1 =range(1,100)\n",
    "  \n",
    "# iterating each number in list\n",
    "for num in list1:\n",
    "  \n",
    "    # checking condition\n",
    "    if num % 2 != 0:\n",
    "       print(num, end=\" \")"
   ]
  }
 ],
 "metadata": {
  "kernelspec": {
   "display_name": "Python 3 (ipykernel)",
   "language": "python",
   "name": "python3"
  },
  "language_info": {
   "codemirror_mode": {
    "name": "ipython",
    "version": 3
   },
   "file_extension": ".py",
   "mimetype": "text/x-python",
   "name": "python",
   "nbconvert_exporter": "python",
   "pygments_lexer": "ipython3",
   "version": "3.11.2"
  }
 },
 "nbformat": 4,
 "nbformat_minor": 5
}
